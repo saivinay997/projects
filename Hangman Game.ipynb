{
 "cells": [
  {
   "cell_type": "code",
   "execution_count": 4,
   "id": "1c75a46a",
   "metadata": {},
   "outputs": [],
   "source": [
    "import random\n",
    "import numpy as np"
   ]
  },
  {
   "cell_type": "code",
   "execution_count": 9,
   "id": "b090859a",
   "metadata": {},
   "outputs": [],
   "source": [
    "def hangman_game():\n",
    "    secret_list = ['apple', \"nurology\", 'calibrated', 'better', 'result']\n",
    "    secret_indx = random.randint(0, len(secret_list)-1)\n",
    "    secret_word = secret_list[secret_indx]\n",
    "    print(\"The clue for the secret word..\")\n",
    "    \n",
    "    if len(secret_word)<4:\n",
    "        q_word = secret_word[0] + ' _ '*(len(secret_word)-3) + secret_word[-1]\n",
    "        print(q_word)\n",
    "        \n",
    "    elif len(secret_word)>=4 and len(secret_word)<=10:\n",
    "        q_word = secret_word[0] + '.'*2 + secret_word[3] + '.'*(len(secret_word)-5) + secret_word[-1]\n",
    "        print(q_word)\n",
    "        \n",
    "    b_word = list(secret_word[1:3] + secret_word[4:-1])\n",
    "    #print(b_word)\n",
    "    b_count = 0\n",
    "    for b in q_word:\n",
    "        if b  == \".\":\n",
    "            b_count+=1\n",
    " \n",
    "    count = len(secret_word)+2\n",
    "    check = 0\n",
    "    \n",
    "    while check!=count:\n",
    "        user_letter = input(\"Enter the guessed letter at any position: \")\n",
    "        check+=1\n",
    "        if user_letter in b_word:\n",
    "            print(\"The entered word is right..!\\n\")\n",
    "            b_count-=1\n",
    "            for i in range(len(b_word)):\n",
    "                if b_word[i] == user_letter:\n",
    "                    b_word.pop(i)\n",
    "                    break\n",
    "            \n",
    "        else:\n",
    "            print(\"The entered letter is not in the word..!\\n\")\n",
    "        if b_count == 0:\n",
    "            break\n",
    "    if b_count == 0:\n",
    "        print(f\"Good job buddy...!\\nThe secret word was: {secret_word}\")"
   ]
  },
  {
   "cell_type": "code",
   "execution_count": 10,
   "id": "cb3c6313",
   "metadata": {},
   "outputs": [
    {
     "name": "stdout",
     "output_type": "stream",
     "text": [
      "The clue for the secret word..\n",
      "b..t.r\n",
      "['e', 't', 'e']\n",
      "Enter the guessed letter at any position: e\n",
      "The entered word is right..!\n",
      "\n",
      "Enter the guessed letter at any position: e\n",
      "The entered word is right..!\n",
      "\n",
      "Enter the guessed letter at any position: e\n",
      "The entered letter is not in the word..!\n",
      "\n",
      "Enter the guessed letter at any position: t\n",
      "The entered word is right..!\n",
      "\n",
      "Good job buddy...!\n",
      "The secret word was better\n"
     ]
    }
   ],
   "source": [
    "hangman_game()"
   ]
  }
 ],
 "metadata": {
  "kernelspec": {
   "display_name": "Python 3 (ipykernel)",
   "language": "python",
   "name": "python3"
  },
  "language_info": {
   "codemirror_mode": {
    "name": "ipython",
    "version": 3
   },
   "file_extension": ".py",
   "mimetype": "text/x-python",
   "name": "python",
   "nbconvert_exporter": "python",
   "pygments_lexer": "ipython3",
   "version": "3.9.12"
  }
 },
 "nbformat": 4,
 "nbformat_minor": 5
}
