{
 "cells": [
  {
   "cell_type": "code",
   "execution_count": 23,
   "id": "f8427e15",
   "metadata": {},
   "outputs": [
    {
     "data": {
      "text/plain": [
       "'2.11.0'"
      ]
     },
     "execution_count": 23,
     "metadata": {},
     "output_type": "execute_result"
    }
   ],
   "source": [
    "import tensorflow as tf\n",
    "from tensorflow import keras\n",
    "tf.__version__"
   ]
  },
  {
   "cell_type": "code",
   "execution_count": 2,
   "id": "5323cd33",
   "metadata": {},
   "outputs": [
    {
     "data": {
      "text/plain": [
       "'2.11.0'"
      ]
     },
     "execution_count": 2,
     "metadata": {},
     "output_type": "execute_result"
    }
   ],
   "source": [
    "keras.__version__"
   ]
  },
  {
   "cell_type": "markdown",
   "id": "98dae435",
   "metadata": {},
   "source": [
    "## Building the image classifier using the Sequential API\n",
    "\n",
    "Fashion MNIST is the drop-in replacement of MNIST.\n",
    "\n",
    "same format of MNIST - 70000 grayscale images of 28 x 28 pixels each, with 10 classes\n",
    "\n",
    "The image represents the fashion items which is more diverse and the significantly more challenging than MNIST.\n",
    "\n",
    "Keras provides some utility  function  to fetch and load common datassets - MNIST, Fashion MNIST, California housing datasets."
   ]
  },
  {
   "cell_type": "code",
   "execution_count": 3,
   "id": "ddfe011c",
   "metadata": {},
   "outputs": [
    {
     "name": "stdout",
     "output_type": "stream",
     "text": [
      "Downloading data from https://storage.googleapis.com/tensorflow/tf-keras-datasets/train-labels-idx1-ubyte.gz\n",
      "29515/29515 [==============================] - 0s 3us/step\n",
      "Downloading data from https://storage.googleapis.com/tensorflow/tf-keras-datasets/train-images-idx3-ubyte.gz\n",
      "26421880/26421880 [==============================] - 89s 3us/step\n",
      "Downloading data from https://storage.googleapis.com/tensorflow/tf-keras-datasets/t10k-labels-idx1-ubyte.gz\n",
      "5148/5148 [==============================] - 0s 0s/step\n",
      "Downloading data from https://storage.googleapis.com/tensorflow/tf-keras-datasets/t10k-images-idx3-ubyte.gz\n",
      "4422102/4422102 [==============================] - 15s 3us/step\n"
     ]
    }
   ],
   "source": [
    "fashion_mnist = keras.datasets.fashion_mnist\n",
    "(X_train_full, y_train_full),(X_test, y_test) = fashion_mnist.load_data()"
   ]
  },
  {
   "cell_type": "markdown",
   "id": "89dc86da",
   "metadata": {},
   "source": [
    "When loasing MNIST or Fashion MNIST using keras other than Scikit-Learn,\n",
    "\n",
    "Every image is represented as a 28 x 28 array rather than a 1D array of size 784. \n",
    "\n",
    "The pixel intensity is repesented as integers (from 0 to 225) rather than floats (from 0.0 to 255.0)."
   ]
  },
  {
   "cell_type": "code",
   "execution_count": 4,
   "id": "4c0443f8",
   "metadata": {},
   "outputs": [
    {
     "data": {
      "text/plain": [
       "(60000, 28, 28)"
      ]
     },
     "execution_count": 4,
     "metadata": {},
     "output_type": "execute_result"
    }
   ],
   "source": [
    "# shape of the training set\n",
    "X_train_full.shape"
   ]
  },
  {
   "cell_type": "code",
   "execution_count": 5,
   "id": "b39dd0e2",
   "metadata": {
    "scrolled": true
   },
   "outputs": [
    {
     "data": {
      "text/plain": [
       "dtype('uint8')"
      ]
     },
     "execution_count": 5,
     "metadata": {},
     "output_type": "execute_result"
    }
   ],
   "source": [
    "# data type of the training set\n",
    "X_train_full.dtype"
   ]
  },
  {
   "cell_type": "code",
   "execution_count": 60,
   "id": "13b6f2ef",
   "metadata": {},
   "outputs": [
    {
     "data": {
      "text/plain": [
       "(10000, 28, 28)"
      ]
     },
     "execution_count": 60,
     "metadata": {},
     "output_type": "execute_result"
    }
   ],
   "source": [
    "X_test.shape"
   ]
  },
  {
   "cell_type": "code",
   "execution_count": 14,
   "id": "ee5dfa7b",
   "metadata": {},
   "outputs": [],
   "source": [
    "# creating validation set. \n",
    "# we will be training the dataset using Gradient Descent, we must scale input features.\n",
    "# scale the pixel intensity down to 0 to 1 range by dividing them by 255.0\n",
    "\n",
    "X_valid, X_train = X_train_full[:5000]/255.0, X_train_full[5000:]/255.0\n",
    "y_valid, y_train = y_train_full[:5000], y_train_full[5000:]"
   ]
  },
  {
   "cell_type": "code",
   "execution_count": 8,
   "id": "297dfd0b",
   "metadata": {
    "collapsed": true
   },
   "outputs": [
    {
     "data": {
      "text/plain": [
       "array([[  0,   0,   0,   0,   0,   0,   0,   0,   0,   0,   0,   0,   0,\n",
       "          0,   0,   0,   0,   0,   0,   0,   0,   0,   0,   0,   0,   0,\n",
       "          0,   0],\n",
       "       [  0,   0,   0,   0,   0,   0,   0,   0,   0,   0,   0,   0,   0,\n",
       "          0,   0,   0,   0,   0,   0,   0,   0,   0,   0,   0,   0,   0,\n",
       "          0,   0],\n",
       "       [  0,   0,   0,   0,   0,   0,   0,   0,   0,   0,   0,   0,   0,\n",
       "          0,   0,   0,   0,   0,   0,   0,   0,   0,   0,   0,   0,   0,\n",
       "          0,   0],\n",
       "       [  0,   0,   0,   0,   0,   0,   0,   0,   0,   0,   0,   0,   1,\n",
       "          0,   0,  13,  73,   0,   0,   1,   4,   0,   0,   0,   0,   1,\n",
       "          1,   0],\n",
       "       [  0,   0,   0,   0,   0,   0,   0,   0,   0,   0,   0,   0,   3,\n",
       "          0,  36, 136, 127,  62,  54,   0,   0,   0,   1,   3,   4,   0,\n",
       "          0,   3],\n",
       "       [  0,   0,   0,   0,   0,   0,   0,   0,   0,   0,   0,   0,   6,\n",
       "          0, 102, 204, 176, 134, 144, 123,  23,   0,   0,   0,   0,  12,\n",
       "         10,   0],\n",
       "       [  0,   0,   0,   0,   0,   0,   0,   0,   0,   0,   0,   0,   0,\n",
       "          0, 155, 236, 207, 178, 107, 156, 161, 109,  64,  23,  77, 130,\n",
       "         72,  15],\n",
       "       [  0,   0,   0,   0,   0,   0,   0,   0,   0,   0,   0,   1,   0,\n",
       "         69, 207, 223, 218, 216, 216, 163, 127, 121, 122, 146, 141,  88,\n",
       "        172,  66],\n",
       "       [  0,   0,   0,   0,   0,   0,   0,   0,   0,   1,   1,   1,   0,\n",
       "        200, 232, 232, 233, 229, 223, 223, 215, 213, 164, 127, 123, 196,\n",
       "        229,   0],\n",
       "       [  0,   0,   0,   0,   0,   0,   0,   0,   0,   0,   0,   0,   0,\n",
       "        183, 225, 216, 223, 228, 235, 227, 224, 222, 224, 221, 223, 245,\n",
       "        173,   0],\n",
       "       [  0,   0,   0,   0,   0,   0,   0,   0,   0,   0,   0,   0,   0,\n",
       "        193, 228, 218, 213, 198, 180, 212, 210, 211, 213, 223, 220, 243,\n",
       "        202,   0],\n",
       "       [  0,   0,   0,   0,   0,   0,   0,   0,   0,   1,   3,   0,  12,\n",
       "        219, 220, 212, 218, 192, 169, 227, 208, 218, 224, 212, 226, 197,\n",
       "        209,  52],\n",
       "       [  0,   0,   0,   0,   0,   0,   0,   0,   0,   0,   6,   0,  99,\n",
       "        244, 222, 220, 218, 203, 198, 221, 215, 213, 222, 220, 245, 119,\n",
       "        167,  56],\n",
       "       [  0,   0,   0,   0,   0,   0,   0,   0,   0,   4,   0,   0,  55,\n",
       "        236, 228, 230, 228, 240, 232, 213, 218, 223, 234, 217, 217, 209,\n",
       "         92,   0],\n",
       "       [  0,   0,   1,   4,   6,   7,   2,   0,   0,   0,   0,   0, 237,\n",
       "        226, 217, 223, 222, 219, 222, 221, 216, 223, 229, 215, 218, 255,\n",
       "         77,   0],\n",
       "       [  0,   3,   0,   0,   0,   0,   0,   0,   0,  62, 145, 204, 228,\n",
       "        207, 213, 221, 218, 208, 211, 218, 224, 223, 219, 215, 224, 244,\n",
       "        159,   0],\n",
       "       [  0,   0,   0,   0,  18,  44,  82, 107, 189, 228, 220, 222, 217,\n",
       "        226, 200, 205, 211, 230, 224, 234, 176, 188, 250, 248, 233, 238,\n",
       "        215,   0],\n",
       "       [  0,  57, 187, 208, 224, 221, 224, 208, 204, 214, 208, 209, 200,\n",
       "        159, 245, 193, 206, 223, 255, 255, 221, 234, 221, 211, 220, 232,\n",
       "        246,   0],\n",
       "       [  3, 202, 228, 224, 221, 211, 211, 214, 205, 205, 205, 220, 240,\n",
       "         80, 150, 255, 229, 221, 188, 154, 191, 210, 204, 209, 222, 228,\n",
       "        225,   0],\n",
       "       [ 98, 233, 198, 210, 222, 229, 229, 234, 249, 220, 194, 215, 217,\n",
       "        241,  65,  73, 106, 117, 168, 219, 221, 215, 217, 223, 223, 224,\n",
       "        229,  29],\n",
       "       [ 75, 204, 212, 204, 193, 205, 211, 225, 216, 185, 197, 206, 198,\n",
       "        213, 240, 195, 227, 245, 239, 223, 218, 212, 209, 222, 220, 221,\n",
       "        230,  67],\n",
       "       [ 48, 203, 183, 194, 213, 197, 185, 190, 194, 192, 202, 214, 219,\n",
       "        221, 220, 236, 225, 216, 199, 206, 186, 181, 177, 172, 181, 205,\n",
       "        206, 115],\n",
       "       [  0, 122, 219, 193, 179, 171, 183, 196, 204, 210, 213, 207, 211,\n",
       "        210, 200, 196, 194, 191, 195, 191, 198, 192, 176, 156, 167, 177,\n",
       "        210,  92],\n",
       "       [  0,   0,  74, 189, 212, 191, 175, 172, 175, 181, 185, 188, 189,\n",
       "        188, 193, 198, 204, 209, 210, 210, 211, 188, 188, 194, 192, 216,\n",
       "        170,   0],\n",
       "       [  2,   0,   0,   0,  66, 200, 222, 237, 239, 242, 246, 243, 244,\n",
       "        221, 220, 193, 191, 179, 182, 182, 181, 176, 166, 168,  99,  58,\n",
       "          0,   0],\n",
       "       [  0,   0,   0,   0,   0,   0,   0,  40,  61,  44,  72,  41,  35,\n",
       "          0,   0,   0,   0,   0,   0,   0,   0,   0,   0,   0,   0,   0,\n",
       "          0,   0],\n",
       "       [  0,   0,   0,   0,   0,   0,   0,   0,   0,   0,   0,   0,   0,\n",
       "          0,   0,   0,   0,   0,   0,   0,   0,   0,   0,   0,   0,   0,\n",
       "          0,   0],\n",
       "       [  0,   0,   0,   0,   0,   0,   0,   0,   0,   0,   0,   0,   0,\n",
       "          0,   0,   0,   0,   0,   0,   0,   0,   0,   0,   0,   0,   0,\n",
       "          0,   0]], dtype=uint8)"
      ]
     },
     "execution_count": 8,
     "metadata": {},
     "output_type": "execute_result"
    }
   ],
   "source": [
    "# list of class names \n",
    "X_train_full[0]"
   ]
  },
  {
   "cell_type": "code",
   "execution_count": 15,
   "id": "3ef2d37c",
   "metadata": {},
   "outputs": [
    {
     "data": {
      "text/plain": [
       "4"
      ]
     },
     "execution_count": 15,
     "metadata": {},
     "output_type": "execute_result"
    }
   ],
   "source": [
    "y_train[0]"
   ]
  },
  {
   "cell_type": "code",
   "execution_count": 16,
   "id": "14cae0d7",
   "metadata": {},
   "outputs": [],
   "source": [
    "class_names = ['T-shirt/top','Trouser','Pullover','Dress','Coat',\n",
    "               'Sandal','Shirt', 'Sneaker','Bag', 'Ankle boot']"
   ]
  },
  {
   "cell_type": "code",
   "execution_count": 17,
   "id": "31990c87",
   "metadata": {},
   "outputs": [
    {
     "data": {
      "text/plain": [
       "'Coat'"
      ]
     },
     "execution_count": 17,
     "metadata": {},
     "output_type": "execute_result"
    }
   ],
   "source": [
    "class_names[y_train[0]]"
   ]
  },
  {
   "cell_type": "code",
   "execution_count": 27,
   "id": "75adba59",
   "metadata": {},
   "outputs": [],
   "source": [
    "model = keras.models.Sequential()\n",
    "# Sequential model is simplest model in keras for neural network. \n",
    "# composed of single stack of layers connected sequentially."
   ]
  },
  {
   "cell_type": "code",
   "execution_count": 28,
   "id": "9108d7d6",
   "metadata": {},
   "outputs": [],
   "source": [
    "model.add(keras.layers.Flatten(input_shape=[28,28]))\n",
    "# builds the first layer and adds it to the model.\n",
    "# Flatten layer converts each input image into a 1D array.\n",
    "# input X is computed to X.reshape(-1,1)\n",
    "# since it is the first layer, specify the shape of the instances.\n",
    "# the shape of the weight matrix depends on the number of inputs, hence specify input_shape"
   ]
  },
  {
   "cell_type": "code",
   "execution_count": 29,
   "id": "e2804b6d",
   "metadata": {},
   "outputs": [],
   "source": [
    "model.add(keras.layers.Dense(300, activation='relu'))\n",
    "# 1st Dense hidden layer with 300 neurons.\n",
    "# with ReLU activation function.\n",
    "# Each dense layer manages its own weight matrix and a bias vector."
   ]
  },
  {
   "cell_type": "code",
   "execution_count": 30,
   "id": "f5d101ed",
   "metadata": {},
   "outputs": [],
   "source": [
    "model.add(keras.layers.Dense(100, activation='relu'))\n",
    "# 2nd Dense hidden layer with 100 neurons and ReLU activation function\n"
   ]
  },
  {
   "cell_type": "code",
   "execution_count": 31,
   "id": "0b6313b8",
   "metadata": {},
   "outputs": [],
   "source": [
    "model.add(keras.layers.Dense(10, activation='softmax'))\n",
    "# finally output layer with 10 neurons (one per class) and softmax activation finction"
   ]
  },
  {
   "cell_type": "code",
   "execution_count": 25,
   "id": "52e88778",
   "metadata": {},
   "outputs": [],
   "source": [
    "# The above steps can be done in only one step by passing a list of layers \n",
    "# when creating the Sequential model\n",
    "\n",
    "model = keras.models.Sequential([\n",
    "        keras.layers.Flatten(input_shape=[28,28]),\n",
    "        keras.layers.Dense(300, activation='relu'),\n",
    "        keras.layers.Dense(100, activation='relu'),\n",
    "        keras.layers.Dense(10, activation='softmax')\n",
    "])"
   ]
  },
  {
   "cell_type": "code",
   "execution_count": 32,
   "id": "dc4a9f3f",
   "metadata": {},
   "outputs": [
    {
     "name": "stdout",
     "output_type": "stream",
     "text": [
      "Model: \"sequential_2\"\n",
      "_________________________________________________________________\n",
      " Layer (type)                Output Shape              Param #   \n",
      "=================================================================\n",
      " flatten_2 (Flatten)         (None, 784)               0         \n",
      "                                                                 \n",
      " dense_6 (Dense)             (None, 300)               235500    \n",
      "                                                                 \n",
      " dense_7 (Dense)             (None, 100)               30100     \n",
      "                                                                 \n",
      " dense_8 (Dense)             (None, 10)                1010      \n",
      "                                                                 \n",
      "=================================================================\n",
      "Total params: 266,610\n",
      "Trainable params: 266,610\n",
      "Non-trainable params: 0\n",
      "_________________________________________________________________\n"
     ]
    }
   ],
   "source": [
    "# model's summary\n",
    "model.summary()"
   ]
  },
  {
   "cell_type": "code",
   "execution_count": 33,
   "id": "851f85de",
   "metadata": {},
   "outputs": [
    {
     "data": {
      "text/plain": [
       "[<keras.layers.reshaping.flatten.Flatten at 0x1a7688ec970>,\n",
       " <keras.layers.core.dense.Dense at 0x1a7688db070>,\n",
       " <keras.layers.core.dense.Dense at 0x1a7688ba9d0>,\n",
       " <keras.layers.core.dense.Dense at 0x1a7688c1ee0>]"
      ]
     },
     "execution_count": 33,
     "metadata": {},
     "output_type": "execute_result"
    }
   ],
   "source": [
    "# model's list of layers, to fetch a layer by its index\n",
    "model.layers"
   ]
  },
  {
   "cell_type": "code",
   "execution_count": 35,
   "id": "ea7817f0",
   "metadata": {},
   "outputs": [
    {
     "data": {
      "text/plain": [
       "'dense_6'"
      ]
     },
     "execution_count": 35,
     "metadata": {},
     "output_type": "execute_result"
    }
   ],
   "source": [
    "hidden1 = model.layers[1]\n",
    "hidden1.name"
   ]
  },
  {
   "cell_type": "code",
   "execution_count": 36,
   "id": "23f8ffa5",
   "metadata": {},
   "outputs": [
    {
     "data": {
      "text/plain": [
       "True"
      ]
     },
     "execution_count": 36,
     "metadata": {},
     "output_type": "execute_result"
    }
   ],
   "source": [
    "model.get_layer('dense_6') is hidden1"
   ]
  },
  {
   "cell_type": "code",
   "execution_count": 37,
   "id": "f1f3445e",
   "metadata": {},
   "outputs": [
    {
     "data": {
      "text/plain": [
       "array([[ 0.03161334,  0.03979832, -0.03387386, ...,  0.02244543,\n",
       "        -0.00547032, -0.01016739],\n",
       "       [-0.06544443, -0.02397195,  0.06028651, ..., -0.03685997,\n",
       "         0.03668644, -0.07196315],\n",
       "       [-0.05689935, -0.03380556,  0.0003892 , ..., -0.01105389,\n",
       "         0.00153438, -0.04974872],\n",
       "       ...,\n",
       "       [-0.06752601, -0.05799883,  0.06473157, ..., -0.01900271,\n",
       "        -0.03953276, -0.06798254],\n",
       "       [ 0.00816782,  0.06251548, -0.05744844, ...,  0.01444934,\n",
       "         0.03193924, -0.02957613],\n",
       "       [ 0.01011746, -0.01210564,  0.02737038, ..., -0.05189433,\n",
       "        -0.02765539,  0.05080934]], dtype=float32)"
      ]
     },
     "execution_count": 37,
     "metadata": {},
     "output_type": "execute_result"
    }
   ],
   "source": [
    "# assessing all the parameters\n",
    "weights, biases = hidden1.get_weights()\n",
    "weights\n",
    "# initial weights are randomly initialized"
   ]
  },
  {
   "cell_type": "code",
   "execution_count": 38,
   "id": "5f06476a",
   "metadata": {},
   "outputs": [
    {
     "data": {
      "text/plain": [
       "(784, 300)"
      ]
     },
     "execution_count": 38,
     "metadata": {},
     "output_type": "execute_result"
    }
   ],
   "source": [
    "weights.shape"
   ]
  },
  {
   "cell_type": "code",
   "execution_count": 39,
   "id": "529285dd",
   "metadata": {},
   "outputs": [
    {
     "data": {
      "text/plain": [
       "array([0., 0., 0., 0., 0., 0., 0., 0., 0., 0., 0., 0., 0., 0., 0., 0., 0.,\n",
       "       0., 0., 0., 0., 0., 0., 0., 0., 0., 0., 0., 0., 0., 0., 0., 0., 0.,\n",
       "       0., 0., 0., 0., 0., 0., 0., 0., 0., 0., 0., 0., 0., 0., 0., 0., 0.,\n",
       "       0., 0., 0., 0., 0., 0., 0., 0., 0., 0., 0., 0., 0., 0., 0., 0., 0.,\n",
       "       0., 0., 0., 0., 0., 0., 0., 0., 0., 0., 0., 0., 0., 0., 0., 0., 0.,\n",
       "       0., 0., 0., 0., 0., 0., 0., 0., 0., 0., 0., 0., 0., 0., 0., 0., 0.,\n",
       "       0., 0., 0., 0., 0., 0., 0., 0., 0., 0., 0., 0., 0., 0., 0., 0., 0.,\n",
       "       0., 0., 0., 0., 0., 0., 0., 0., 0., 0., 0., 0., 0., 0., 0., 0., 0.,\n",
       "       0., 0., 0., 0., 0., 0., 0., 0., 0., 0., 0., 0., 0., 0., 0., 0., 0.,\n",
       "       0., 0., 0., 0., 0., 0., 0., 0., 0., 0., 0., 0., 0., 0., 0., 0., 0.,\n",
       "       0., 0., 0., 0., 0., 0., 0., 0., 0., 0., 0., 0., 0., 0., 0., 0., 0.,\n",
       "       0., 0., 0., 0., 0., 0., 0., 0., 0., 0., 0., 0., 0., 0., 0., 0., 0.,\n",
       "       0., 0., 0., 0., 0., 0., 0., 0., 0., 0., 0., 0., 0., 0., 0., 0., 0.,\n",
       "       0., 0., 0., 0., 0., 0., 0., 0., 0., 0., 0., 0., 0., 0., 0., 0., 0.,\n",
       "       0., 0., 0., 0., 0., 0., 0., 0., 0., 0., 0., 0., 0., 0., 0., 0., 0.,\n",
       "       0., 0., 0., 0., 0., 0., 0., 0., 0., 0., 0., 0., 0., 0., 0., 0., 0.,\n",
       "       0., 0., 0., 0., 0., 0., 0., 0., 0., 0., 0., 0., 0., 0., 0., 0., 0.,\n",
       "       0., 0., 0., 0., 0., 0., 0., 0., 0., 0., 0.], dtype=float32)"
      ]
     },
     "execution_count": 39,
     "metadata": {},
     "output_type": "execute_result"
    }
   ],
   "source": [
    "biases"
   ]
  },
  {
   "cell_type": "code",
   "execution_count": 40,
   "id": "aaf72ae7",
   "metadata": {},
   "outputs": [
    {
     "data": {
      "text/plain": [
       "(300,)"
      ]
     },
     "execution_count": 40,
     "metadata": {},
     "output_type": "execute_result"
    }
   ],
   "source": [
    "biases.shape"
   ]
  },
  {
   "cell_type": "code",
   "execution_count": 41,
   "id": "012de8d7",
   "metadata": {},
   "outputs": [],
   "source": [
    "# kernal is another name for the matrix of connection weights\n",
    "# for different weight initialization mode, you can use kernal_initializer \n",
    "# or bias_initializer when creating the layer"
   ]
  },
  {
   "cell_type": "code",
   "execution_count": 43,
   "id": "7f09f80d",
   "metadata": {},
   "outputs": [],
   "source": [
    "# Compling the model, spcifying the loss function and optimizer to use.\n",
    "# can also specify list of extra metrics\n",
    "model.compile(loss='sparse_categorical_crossentropy',\n",
    "              optimizer = 'sgd',\n",
    "              metrics=['accuracy'])"
   ]
  },
  {
   "cell_type": "code",
   "execution_count": 44,
   "id": "b78147d3",
   "metadata": {},
   "outputs": [],
   "source": [
    "# loss='sparse_categotrical_crossentropy' =~  kesar.losses.sparse_categorical_crossentropy\n",
    "# optimizer = 'sgd' =~ keras.optimizer.SGD()\n",
    "# metrics = ['accuracy'] =~ [keras.metrics.sparse_categorical_accuracy]"
   ]
  },
  {
   "cell_type": "code",
   "execution_count": 45,
   "id": "a54f50d4",
   "metadata": {},
   "outputs": [],
   "source": [
    "# we have sparse labels i.e there is just a target class index from 0 to 9 in this case, hence we use sparse_categorical_crossentropy\n",
    "# if we had one hot encoder , then we would need to use the 'categorical_crossentropy' as a loss\n",
    "# if we had binary classification (with one or more binary labels), then we would use 'sigmoid' insted of softmax at the output layer\n",
    "# and 'binary_crossentropy' as loss"
   ]
  },
  {
   "cell_type": "code",
   "execution_count": 46,
   "id": "f09188a9",
   "metadata": {},
   "outputs": [],
   "source": [
    "# keras.utils.to_categorical() function to convert sparse label to one-hot encoder vector\n",
    "# np.argmax(one-hot, axis=1)"
   ]
  },
  {
   "cell_type": "code",
   "execution_count": 47,
   "id": "cc25e39f",
   "metadata": {},
   "outputs": [],
   "source": [
    "# optimizer = 'sgd' sets the learning rate to its default value of 0.01\n",
    "# to change it use keras.optimizer.SGD(lr= ???)"
   ]
  },
  {
   "cell_type": "code",
   "execution_count": 48,
   "id": "38e23ef9",
   "metadata": {},
   "outputs": [
    {
     "name": "stdout",
     "output_type": "stream",
     "text": [
      "Epoch 1/30\n",
      "1719/1719 [==============================] - 4s 2ms/step - loss: 0.7217 - accuracy: 0.7587 - val_loss: 0.5291 - val_accuracy: 0.8226\n",
      "Epoch 2/30\n",
      "1719/1719 [==============================] - 3s 2ms/step - loss: 0.4949 - accuracy: 0.8272 - val_loss: 0.4688 - val_accuracy: 0.8364\n",
      "Epoch 3/30\n",
      "1719/1719 [==============================] - 3s 2ms/step - loss: 0.4489 - accuracy: 0.8413 - val_loss: 0.4548 - val_accuracy: 0.8416\n",
      "Epoch 4/30\n",
      "1719/1719 [==============================] - 3s 2ms/step - loss: 0.4207 - accuracy: 0.8524 - val_loss: 0.4109 - val_accuracy: 0.8596\n",
      "Epoch 5/30\n",
      "1719/1719 [==============================] - 3s 2ms/step - loss: 0.4006 - accuracy: 0.8599 - val_loss: 0.3997 - val_accuracy: 0.8626\n",
      "Epoch 6/30\n",
      "1719/1719 [==============================] - 3s 2ms/step - loss: 0.3837 - accuracy: 0.8642 - val_loss: 0.3734 - val_accuracy: 0.8706\n",
      "Epoch 7/30\n",
      "1719/1719 [==============================] - 3s 2ms/step - loss: 0.3688 - accuracy: 0.8696 - val_loss: 0.3790 - val_accuracy: 0.8694\n",
      "Epoch 8/30\n",
      "1719/1719 [==============================] - 3s 2ms/step - loss: 0.3573 - accuracy: 0.8738 - val_loss: 0.3571 - val_accuracy: 0.8760\n",
      "Epoch 9/30\n",
      "1719/1719 [==============================] - 3s 2ms/step - loss: 0.3462 - accuracy: 0.8771 - val_loss: 0.3553 - val_accuracy: 0.8732\n",
      "Epoch 10/30\n",
      "1719/1719 [==============================] - 3s 2ms/step - loss: 0.3367 - accuracy: 0.8806 - val_loss: 0.3607 - val_accuracy: 0.8724\n",
      "Epoch 11/30\n",
      "1719/1719 [==============================] - 3s 2ms/step - loss: 0.3276 - accuracy: 0.8839 - val_loss: 0.3335 - val_accuracy: 0.8832\n",
      "Epoch 12/30\n",
      "1719/1719 [==============================] - 3s 2ms/step - loss: 0.3197 - accuracy: 0.8863 - val_loss: 0.3348 - val_accuracy: 0.8836\n",
      "Epoch 13/30\n",
      "1719/1719 [==============================] - 3s 2ms/step - loss: 0.3122 - accuracy: 0.8886 - val_loss: 0.3272 - val_accuracy: 0.8834\n",
      "Epoch 14/30\n",
      "1719/1719 [==============================] - 3s 2ms/step - loss: 0.3046 - accuracy: 0.8915 - val_loss: 0.3565 - val_accuracy: 0.8708\n",
      "Epoch 15/30\n",
      "1719/1719 [==============================] - 3s 2ms/step - loss: 0.2981 - accuracy: 0.8938 - val_loss: 0.3321 - val_accuracy: 0.8808\n",
      "Epoch 16/30\n",
      "1719/1719 [==============================] - 3s 2ms/step - loss: 0.2916 - accuracy: 0.8957 - val_loss: 0.3189 - val_accuracy: 0.8848\n",
      "Epoch 17/30\n",
      "1719/1719 [==============================] - 3s 2ms/step - loss: 0.2861 - accuracy: 0.8970 - val_loss: 0.3169 - val_accuracy: 0.8868\n",
      "Epoch 18/30\n",
      "1719/1719 [==============================] - 3s 2ms/step - loss: 0.2804 - accuracy: 0.8994 - val_loss: 0.3083 - val_accuracy: 0.8892\n",
      "Epoch 19/30\n",
      "1719/1719 [==============================] - 3s 2ms/step - loss: 0.2755 - accuracy: 0.9014 - val_loss: 0.3146 - val_accuracy: 0.8854\n",
      "Epoch 20/30\n",
      "1719/1719 [==============================] - 3s 2ms/step - loss: 0.2698 - accuracy: 0.9032 - val_loss: 0.3063 - val_accuracy: 0.8926\n",
      "Epoch 21/30\n",
      "1719/1719 [==============================] - 3s 2ms/step - loss: 0.2646 - accuracy: 0.9053 - val_loss: 0.2998 - val_accuracy: 0.8910\n",
      "Epoch 22/30\n",
      "1719/1719 [==============================] - 3s 2ms/step - loss: 0.2601 - accuracy: 0.9069 - val_loss: 0.3214 - val_accuracy: 0.8838\n",
      "Epoch 23/30\n",
      "1719/1719 [==============================] - 3s 2ms/step - loss: 0.2556 - accuracy: 0.9089 - val_loss: 0.3127 - val_accuracy: 0.8874\n",
      "Epoch 24/30\n",
      "1719/1719 [==============================] - 3s 2ms/step - loss: 0.2511 - accuracy: 0.9087 - val_loss: 0.3003 - val_accuracy: 0.8888\n",
      "Epoch 25/30\n",
      "1719/1719 [==============================] - 3s 2ms/step - loss: 0.2477 - accuracy: 0.9111 - val_loss: 0.3097 - val_accuracy: 0.8850\n",
      "Epoch 26/30\n",
      "1719/1719 [==============================] - 3s 2ms/step - loss: 0.2421 - accuracy: 0.9115 - val_loss: 0.2972 - val_accuracy: 0.8922\n",
      "Epoch 27/30\n",
      "1719/1719 [==============================] - 3s 2ms/step - loss: 0.2379 - accuracy: 0.9139 - val_loss: 0.3001 - val_accuracy: 0.8920\n",
      "Epoch 28/30\n",
      "1719/1719 [==============================] - 3s 2ms/step - loss: 0.2335 - accuracy: 0.9166 - val_loss: 0.3045 - val_accuracy: 0.8904\n",
      "Epoch 29/30\n",
      "1719/1719 [==============================] - 3s 2ms/step - loss: 0.2310 - accuracy: 0.9167 - val_loss: 0.2958 - val_accuracy: 0.8944\n",
      "Epoch 30/30\n",
      "1719/1719 [==============================] - 3s 2ms/step - loss: 0.2269 - accuracy: 0.9182 - val_loss: 0.2999 - val_accuracy: 0.8916\n"
     ]
    }
   ],
   "source": [
    "history = model.fit(X_train, y_train, epochs=30,\n",
    "                    validation_data = (X_valid, y_valid))"
   ]
  },
  {
   "cell_type": "code",
   "execution_count": 49,
   "id": "2e7e7159",
   "metadata": {},
   "outputs": [],
   "source": [
    "# can also use validation_split = 0.1\n",
    "# class_weights when calling fit(), will give a large weight to underrepresented classes\n",
    "# lower weight to overrepresented classes. used while computing loss.\n",
    "# sample_weight for per-instance weights, used to distinguish between expert and crowd labelling.\n",
    "# if both class_weight and sample_weight are given, keras will multuiply them.\n",
    "# also provide sample weights for validation data( 3rd item in the tuple)"
   ]
  },
  {
   "cell_type": "code",
   "execution_count": 50,
   "id": "027aada1",
   "metadata": {},
   "outputs": [],
   "source": [
    "# fit() method returns\n",
    "# 1. History object containing training parameters (history.params)\n",
    "# 2. list of epochs it went through (history.epoch)\n",
    "# 3. dict of history.history containing the loss and extra metrics it measured at the end of each epoch\n",
    "# onthe training and validation set"
   ]
  },
  {
   "cell_type": "code",
   "execution_count": 51,
   "id": "59506afe",
   "metadata": {},
   "outputs": [],
   "source": [
    "import pandas as pd\n",
    "import matplotlib.pyplot as plt"
   ]
  },
  {
   "cell_type": "code",
   "execution_count": 52,
   "id": "6d9cce7d",
   "metadata": {},
   "outputs": [
    {
     "data": {
      "text/plain": [
       "(0.0, 1.0)"
      ]
     },
     "execution_count": 52,
     "metadata": {},
     "output_type": "execute_result"
    },
    {
     "data": {
      "image/png": "[encoded data removed]",
      "text/plain": [
       "<Figure size 576x360 with 1 Axes>"
      ]
     },
     "metadata": {
      "needs_background": "light"
     },
     "output_type": "display_data"
    }
   ],
   "source": [
    "pd.DataFrame(history.history).plot(figsize=(8,5))\n",
    "plt.grid(True)\n",
    "plt.gca().set_ylim(0,1)"
   ]
  },
  {
   "cell_type": "code",
   "execution_count": 56,
   "id": "8cfa7bb7",
   "metadata": {},
   "outputs": [
    {
     "data": {
      "text/html": [
       "<div>\n",
       "<style scoped>\n",
       "    .dataframe tbody tr th:only-of-type {\n",
       "        vertical-align: middle;\n",
       "    }\n",
       "\n",
       "    .dataframe tbody tr th {\n",
       "        vertical-align: top;\n",
       "    }\n",
       "\n",
       "    .dataframe thead th {\n",
       "        text-align: right;\n",
       "    }\n",
       "</style>\n",
       "<table border=\"1\" class=\"dataframe\">\n",
       "  <thead>\n",
       "    <tr style=\"text-align: right;\">\n",
       "      <th></th>\n",
       "      <th>loss</th>\n",
       "      <th>accuracy</th>\n",
       "      <th>val_loss</th>\n",
       "      <th>val_accuracy</th>\n",
       "    </tr>\n",
       "  </thead>\n",
       "  <tbody>\n",
       "    <tr>\n",
       "      <th>0</th>\n",
       "      <td>0.721675</td>\n",
       "      <td>0.758709</td>\n",
       "      <td>0.529074</td>\n",
       "      <td>0.8226</td>\n",
       "    </tr>\n",
       "    <tr>\n",
       "      <th>1</th>\n",
       "      <td>0.494856</td>\n",
       "      <td>0.827200</td>\n",
       "      <td>0.468806</td>\n",
       "      <td>0.8364</td>\n",
       "    </tr>\n",
       "    <tr>\n",
       "      <th>2</th>\n",
       "      <td>0.448946</td>\n",
       "      <td>0.841273</td>\n",
       "      <td>0.454752</td>\n",
       "      <td>0.8416</td>\n",
       "    </tr>\n",
       "    <tr>\n",
       "      <th>3</th>\n",
       "      <td>0.420697</td>\n",
       "      <td>0.852400</td>\n",
       "      <td>0.410947</td>\n",
       "      <td>0.8596</td>\n",
       "    </tr>\n",
       "    <tr>\n",
       "      <th>4</th>\n",
       "      <td>0.400610</td>\n",
       "      <td>0.859927</td>\n",
       "      <td>0.399680</td>\n",
       "      <td>0.8626</td>\n",
       "    </tr>\n",
       "  </tbody>\n",
       "</table>\n",
       "</div>"
      ],
      "text/plain": [
       "       loss  accuracy  val_loss  val_accuracy\n",
       "0  0.721675  0.758709  0.529074        0.8226\n",
       "1  0.494856  0.827200  0.468806        0.8364\n",
       "2  0.448946  0.841273  0.454752        0.8416\n",
       "3  0.420697  0.852400  0.410947        0.8596\n",
       "4  0.400610  0.859927  0.399680        0.8626"
      ]
     },
     "execution_count": 56,
     "metadata": {},
     "output_type": "execute_result"
    }
   ],
   "source": [
    "metrics_ = pd.DataFrame(history.history)\n",
    "metrics_.head()"
   ]
  },
  {
   "cell_type": "code",
   "execution_count": 57,
   "id": "8a0de7d7",
   "metadata": {},
   "outputs": [],
   "source": [
    "# validation error is computed at the end of each epoch.\n",
    "# training error is computed using a running mean during each epoch.\n",
    "# validationn curves are close to the training curves, which measns there is not too much overfitting.\n"
   ]
  },
  {
   "cell_type": "code",
   "execution_count": 58,
   "id": "db0aecf5",
   "metadata": {},
   "outputs": [],
   "source": [
    "# if performance of the model is not satisfied, then you have to tune the hyperparameters\n",
    "# first, check the learning rate\n",
    "# try another optimizer and always retune the lr after changing any hyperparameter\n",
    "# if the performance is still not great, then try tuneing model hyperparameters \n",
    "# such as the number of layers, the number of neurons per layer, and the type of activation functions to use for each hidden layers\n",
    "# you can also tune other hyperparameters, such as batch_size. default value is 32 in fit() method"
   ]
  },
  {
   "cell_type": "code",
   "execution_count": 64,
   "id": "823a2660",
   "metadata": {},
   "outputs": [
    {
     "name": "stdout",
     "output_type": "stream",
     "text": [
      "313/313 [==============================] - 0s 894us/step - loss: 76.0104 - accuracy: 0.8343\n"
     ]
    },
    {
     "data": {
      "text/plain": [
       "[76.01040649414062, 0.8342999815940857]"
      ]
     },
     "execution_count": 64,
     "metadata": {},
     "output_type": "execute_result"
    }
   ],
   "source": [
    "# now evaluate the model for test dataset to estimate the generalization error before you deploy the model\n",
    "model.evaluate(X_test, y_test)"
   ]
  },
  {
   "cell_type": "code",
   "execution_count": 63,
   "id": "11aa8312",
   "metadata": {},
   "outputs": [
    {
     "data": {
      "text/plain": [
       "(10000,)"
      ]
     },
     "execution_count": 63,
     "metadata": {},
     "output_type": "execute_result"
    }
   ],
   "source": [
    "y_test.shape"
   ]
  },
  {
   "cell_type": "code",
   "execution_count": null,
   "id": "230c3997",
   "metadata": {},
   "outputs": [],
   "source": []
  }
 ],
 "metadata": {
  "kernelspec": {
   "display_name": "Python 3 (ipykernel)",
   "language": "python",
   "name": "python3"
  },
  "language_info": {
   "codemirror_mode": {
    "name": "ipython",
    "version": 3
   },
   "file_extension": ".py",
   "mimetype": "text/x-python",
   "name": "python",
   "nbconvert_exporter": "python",
   "pygments_lexer": "ipython3",
   "version": "3.9.12"
  }
 },
 "nbformat": 4,
 "nbformat_minor": 5
}
