{
 "cells": [
  {
   "cell_type": "code",
   "execution_count": 14,
   "id": "ad507c60",
   "metadata": {},
   "outputs": [],
   "source": [
    "import random\n",
    "\n",
    "def guessing_game():\n",
    "    a = int(input('Enter the starting range: '))\n",
    "    b = int(input(\"Enter the range's end: \"))\n",
    "    \n",
    "    val = random.randint(a,b)\n",
    "    count = 0\n",
    "    check = 0\n",
    "    \n",
    "    while check!=1:\n",
    "        user = int(input(\"Enter your number of guess: \"))\n",
    "        count+=1\n",
    "        if user>val:\n",
    "            print(\"Wrong guess..!! Your guess is high..\")\n",
    "        elif user<val:\n",
    "            print(\"Wrong guess..!! Your guess is low..\")\n",
    "        else:\n",
    "            print(f\"You are right.. \\nTotal number of tries: {count}\")\n",
    "            check = 1"
   ]
  },
  {
   "cell_type": "code",
   "execution_count": 15,
   "id": "d810da66",
   "metadata": {},
   "outputs": [
    {
     "name": "stdout",
     "output_type": "stream",
     "text": [
      "Enter the starting range: 1\n",
      "Enter the range's end: 5\n",
      "Enter your number of guess: 1\n",
      "Wrong guess..!! Your guess is low..\n",
      "Enter your number of guess: 2\n",
      "Wrong guess..!! Your guess is low..\n",
      "Enter your number of guess: 5\n",
      "Wrong guess..!! Your guess is high..\n",
      "Enter your number of guess: 4\n",
      "Wrong guess..!! Your guess is high..\n",
      "Enter your number of guess: 3\n",
      "You are right.. \n",
      " Total number of tries: 5\n"
     ]
    }
   ],
   "source": [
    "guessing_game()"
   ]
  },
  {
   "cell_type": "code",
   "execution_count": null,
   "id": "d34a9c89",
   "metadata": {},
   "outputs": [],
   "source": []
  }
 ],
 "metadata": {
  "kernelspec": {
   "display_name": "Python 3 (ipykernel)",
   "language": "python",
   "name": "python3"
  },
  "language_info": {
   "codemirror_mode": {
    "name": "ipython",
    "version": 3
   },
   "file_extension": ".py",
   "mimetype": "text/x-python",
   "name": "python",
   "nbconvert_exporter": "python",
   "pygments_lexer": "ipython3",
   "version": "3.9.12"
  }
 },
 "nbformat": 4,
 "nbformat_minor": 5
}
